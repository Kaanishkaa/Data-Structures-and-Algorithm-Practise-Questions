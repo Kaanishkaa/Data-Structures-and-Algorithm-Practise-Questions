{
  "nbformat": 4,
  "nbformat_minor": 0,
  "metadata": {
    "colab": {
      "provenance": []
    },
    "kernelspec": {
      "name": "python3",
      "display_name": "Python 3"
    },
    "language_info": {
      "name": "python"
    }
  },
  "cells": [
    {
      "cell_type": "markdown",
      "source": [
        "#Recursion and Backtracking Practise Questions"
      ],
      "metadata": {
        "id": "I8z5WnKP_Ots"
      }
    },
    {
      "cell_type": "markdown",
      "source": [
        "| Problem                                                                        | Key Idea                        | Link                                                        |\n",
        "| ------------------------------------------------------------------------------ | ------------------------------- | ----------------------------------------------------------- |\n",
        "| 🟢 [Factorial](https://leetcode.com/problems/factorial-trailing-zeroes/)       | Understand base case            | *(Use your own recursive version first)*                    |\n",
        "| 🟢 [Fibonacci Number](https://leetcode.com/problems/fibonacci-number/)         | Recursion tree                  | [Link](https://leetcode.com/problems/fibonacci-number/)     |\n",
        "| 🟡 [Climbing Stairs](https://leetcode.com/problems/climbing-stairs/)           | DP + Recursion                  | [Link](https://leetcode.com/problems/climbing-stairs/)      |\n",
        "| 🟡 [Subsets](https://leetcode.com/problems/subsets/)                           | Backtracking                    | [Link](https://leetcode.com/problems/subsets/)              |\n",
        "| 🟡 [Permutations](https://leetcode.com/problems/permutations/)                 | Backtracking + visited array    | [Link](https://leetcode.com/problems/permutations/)         |\n",
        "| 🟡 [Generate Parentheses](https://leetcode.com/problems/generate-parentheses/) | Balanced recursive construction | [Link](https://leetcode.com/problems/generate-parentheses/) |\n"
      ],
      "metadata": {
        "id": "Ms6fO6h9_IM0"
      }
    },
    {
      "cell_type": "markdown",
      "source": [
        "#Question 1\n",
        "\n",
        "509. Fibonacci Number\n",
        "\n",
        "The Fibonacci numbers, commonly denoted F(n) form a sequence, called the Fibonacci sequence, such that each number is the sum of the two preceding ones, starting from 0 and 1. That is,\n",
        "\n",
        "F(0) = 0, F(1) = 1  \n",
        "F(n) = F(n - 1) + F(n - 2), for n > 1.  \n",
        "Given n, calculate F(n).  \n",
        "\n",
        "\n",
        "\n",
        "Example 1:\n",
        "\n",
        "Input: n = 2  \n",
        "Output: 1   \n",
        "Explanation: F(2) = F(1) + F(0) = 1 + 0 = 1."
      ],
      "metadata": {
        "id": "BPUrCsIo_Xa_"
      }
    },
    {
      "cell_type": "code",
      "execution_count": 1,
      "metadata": {
        "id": "OAbBKwVb_AW-"
      },
      "outputs": [],
      "source": [
        "def fib(n):\n",
        "    if n == 0: return 0\n",
        "    a, b = 0, 1\n",
        "    for _ in range(2, n+1):\n",
        "        a, b = b, a + b\n",
        "    return b"
      ]
    },
    {
      "cell_type": "markdown",
      "source": [
        "Explanation  \n",
        "\t•\tStart with base cases F(0) = 0, F(1) = 1  \n",
        "\t•\tLoop from 2 to n, updating the last two values at each step."
      ],
      "metadata": {
        "id": "u49PjMvh_y6k"
      }
    },
    {
      "cell_type": "markdown",
      "source": [
        " Complexity  \n",
        "\t•\tTime: O(n)  \n",
        "\t•\tSpace: O(1) (no extra memory used)"
      ],
      "metadata": {
        "id": "eFiQQx9h_4Pz"
      }
    },
    {
      "cell_type": "markdown",
      "source": [
        "#Question 2\n",
        "\n",
        "70. Climbing Stairs\n",
        "\n",
        "You are climbing a staircase. It takes n steps to reach the top.\n",
        "\n",
        "Each time you can either climb 1 or 2 steps. In how many distinct ways can you climb to the top?\n",
        "\n",
        "\n",
        "\n",
        "Example 1:\n",
        "\n",
        "Input: n = 2\n",
        "Output: 2\n",
        "Explanation: There are two ways to climb to the top.\n",
        "1. 1 step + 1 step\n",
        "2. 2 steps\n"
      ],
      "metadata": {
        "id": "YllUNqXqBnGL"
      }
    },
    {
      "cell_type": "markdown",
      "source": [
        "###Problem Understanding\n",
        "\n",
        "If you want to climb n stairs, and can take 1 or 2 steps at a time, the number of ways to reach the top is:  \n",
        "\t•\tFrom step n - 1, you can take a 1-step to reach n  \n",
        "\t•\tFrom step n - 2, you can take a 2-step to reach n  \n",
        "\n",
        "So the recurrence is:\n",
        "\n",
        "ways(n) = ways(n - 1) + ways(n - 2)\n",
        "\n",
        "This is exactly like Fibonacci, except:\n",
        "\t•\tways(1) = 1 (only one way to climb one stair)\n",
        "\t•\tways(2) = 2 (two ways: 1+1 or 2)\n"
      ],
      "metadata": {
        "id": "ShffUUnFBuLz"
      }
    },
    {
      "cell_type": "code",
      "source": [
        "def climbStairs(n):\n",
        "    if n <= 2:\n",
        "        return n\n",
        "\n",
        "    a, b = 1, 2\n",
        "    for _ in range(3, n + 1):\n",
        "        a, b = b, a + b\n",
        "    return b"
      ],
      "metadata": {
        "id": "F3WwJbggB_dB"
      },
      "execution_count": 2,
      "outputs": []
    },
    {
      "cell_type": "markdown",
      "source": [
        "#Question 3\n",
        "\n",
        "78. Subsets\n",
        "\n",
        "Given an integer array nums of unique elements, return all possible subsets (the power set).\n",
        "\n",
        "The solution set must not contain duplicate subsets. Return the solution in any order.\n",
        "\n",
        "\n",
        "\n",
        "Example 1:\n",
        "\n",
        "Input: nums = [1,2,3]\n",
        "Output: [[],[1],[2],[1,2],[3],[1,3],[2,3],[1,2,3]]\n",
        "\n",
        "Example 2:\n",
        "\n",
        "Input: nums = [0]\n",
        "Output: [[],[0]]\n",
        "\n",
        "\n",
        "Constraints:\n",
        "\n",
        "1 <= nums.length <= 10  \n",
        "-10 <= nums[i] <= 10  \n",
        "All the numbers of nums are unique.  "
      ],
      "metadata": {
        "id": "e5s4mHzwCpvG"
      }
    },
    {
      "cell_type": "code",
      "source": [
        "def subsets(nums):\n",
        "    res = []\n",
        "\n",
        "    def backtrack(start, path):\n",
        "        res.append(path[:])  # Add current subset\n",
        "        for i in range(start, len(nums)):\n",
        "            path.append(nums[i])        # Choose\n",
        "            backtrack(i + 1, path)      # Explore\n",
        "            path.pop()                  # Un-choose (backtrack)\n",
        "\n",
        "    backtrack(0, [])\n",
        "    return res"
      ],
      "metadata": {
        "id": "RDPIjam_E8xa"
      },
      "execution_count": 3,
      "outputs": []
    },
    {
      "cell_type": "markdown",
      "source": [
        "#Question 4\n",
        "\n",
        "46. Permutations\n",
        "\n",
        "Given an array nums of distinct integers, return all the possible permutations. You can return the answer in any order.\n",
        "\n",
        "\n",
        "\n",
        "Example 1:\n",
        "\n",
        "Input: nums = [1,2,3]\n",
        "Output: [[1,2,3],[1,3,2],[2,1,3],[2,3,1],[3,1,2],[3,2,1]]"
      ],
      "metadata": {
        "id": "3OMDnk95zFf8"
      }
    },
    {
      "cell_type": "code",
      "source": [
        "class Solution(object):\n",
        "    def permute(self, nums):\n",
        "        \"\"\"\n",
        "        :type nums: List[int]\n",
        "        :rtype: List[List[int]]\n",
        "        \"\"\"\n",
        "\n",
        "        res = []  # This will store all the permutations\n",
        "\n",
        "        def backtrack(path, used):\n",
        "            # Base case: if the current path has all elements, it's a complete permutation\n",
        "            if len(path) == len(nums):\n",
        "                res.append(path[:])  # Append a copy of the current path\n",
        "                return\n",
        "\n",
        "            # Try each number in nums\n",
        "            for i in range(len(nums)):\n",
        "                if used[i]:  # Skip if this number is already used in the current path\n",
        "                    continue\n",
        "\n",
        "                # Choose the number\n",
        "                used[i] = True\n",
        "                path.append(nums[i])\n",
        "\n",
        "                # Recurse to build the rest of the permutation\n",
        "                backtrack(path, used)\n",
        "\n",
        "                # Backtrack: undo the choice for the next iteration\n",
        "                path.pop()\n",
        "                used[i] = False\n",
        "\n",
        "        # Start backtracking with an empty path and all numbers unused\n",
        "        backtrack([], [False] * len(nums))\n",
        "        return res"
      ],
      "metadata": {
        "id": "t4dGVmMnFAGg"
      },
      "execution_count": null,
      "outputs": []
    }
  ]
}