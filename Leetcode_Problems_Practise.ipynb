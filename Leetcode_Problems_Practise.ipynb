{
  "nbformat": 4,
  "nbformat_minor": 0,
  "metadata": {
    "colab": {
      "provenance": []
    },
    "kernelspec": {
      "name": "python3",
      "display_name": "Python 3"
    },
    "language_info": {
      "name": "python"
    }
  },
  "cells": [
    {
      "cell_type": "markdown",
      "source": [
        "#Day 1: Arrays Practice List\n",
        "## Level 1: Easy (Warm-Up)\n",
        "\n",
        "Two Sum – HashMap approach is key  \n",
        "Best Time to Buy and Sell Stock – Sliding window  \n",
        "Move Zeroes – In-place two-pointer trick  \n",
        "## Level 2: Medium (Core Logic)\n",
        "\n",
        "Product of Array Except Self – Prefix + Suffix arrays  \n",
        "Maximum Subarray – Kadane’s algorithm  \n",
        "3Sum – Two-pointer with sorting"
      ],
      "metadata": {
        "id": "pqWRnJq708pJ"
      }
    },
    {
      "cell_type": "markdown",
      "source": [
        "#Question 1\n",
        " Two Sum\n",
        "Easy\n",
        "\n",
        "Given an array of integers nums and an integer target, return indices of the two numbers such that they add up to target.\n",
        "\n",
        "You may assume that each input would have exactly one solution, and you may not use the same element twice.\n",
        "\n",
        "You can return the answer in any order.\n",
        "\n",
        "\n",
        "\n",
        "Example 1:\n",
        "\n",
        "Input: nums = [2,7,11,15], target = 9\n",
        "Output: [0,1]\n",
        "\n",
        " Explanation: Because nums[0] + nums[1] == 9, we return [0, 1].\n",
        "\n",
        "\n",
        "Example 2:\n",
        "\n",
        "Input: nums = [3,2,4], target = 6\n",
        "Output: [1,2]\n",
        "Example 3:\n",
        "\n",
        "Input: nums = [3,3], target = 6\n",
        "Output: [0,1]\n",
        "\n",
        "\n",
        "Constraints:\n",
        "\n",
        "2 <= nums.length <= 104\n",
        "\n",
        "-109 <= nums[i] <= 109\n",
        "\n",
        "-109 <= target <= 109\n",
        "\n",
        "Only one valid answer exists.\n",
        "\n",
        "\n",
        "Follow-up: Can you come up with an algorithm that is less than O(n2) time complexity?"
      ],
      "metadata": {
        "id": "s7Pwwo1PrCCp"
      }
    },
    {
      "cell_type": "code",
      "execution_count": 1,
      "metadata": {
        "id": "l4JBMRtuq-Te"
      },
      "outputs": [],
      "source": [
        "class Solution:\n",
        "    def twoSum(self, nums, target):\n",
        "        seen = {}  # Step 1: Initialize an empty dictionary\n",
        "\n",
        "        for i, num in enumerate(nums):  # Step 2: Loop through nums\n",
        "            complement = target - num   # Step 3: Compute complement\n",
        "\n",
        "            if complement in seen:      # Step 4: Check if complement already seen\n",
        "                return [seen[complement], i]  # Step 5: Return indices if match found\n",
        "\n",
        "            seen[num] = i  # Step 6: Store current num and its index"
      ]
    },
    {
      "cell_type": "markdown",
      "source": [
        "Time Complexity\n",
        "\n",
        "Step-by-step:  \n",
        "\t1.\tenumerate(nums) — iterates over each element in nums:  \n",
        "      ✅ O(n) where n is the length of nums.  \n",
        "\t2.\tFor each iteration:  \n",
        "\t•\tcomplement = target - num — simple arithmetic: O(1)  \n",
        "\t•\tif complement in seen — dictionary lookup: O(1) average case  \n",
        "\t•\tseen[num] = i — dictionary insert: O(1) average case\n",
        "\n",
        "➡️ So each iteration does O(1) work.\n",
        "\n",
        "📌 Multiply that by n iterations → O(n)"
      ],
      "metadata": {
        "id": "wjC6T2QxtGDL"
      }
    },
    {
      "cell_type": "markdown",
      "source": [
        "Space Complexity\n",
        "\n",
        "What are we storing?\n",
        "\t•\tWe use a dictionary seen to store previously seen numbers and their indices.  \n",
        "\t•\tIn the worst case (when we find a pair only at the very end), we might store all n elements in seen.  \n",
        "\n",
        "➡️ So space used grows linearly with the input size.\n",
        "\n",
        "✅ Space complexity = O(n)\n"
      ],
      "metadata": {
        "id": "Lzz3317AtY4S"
      }
    },
    {
      "cell_type": "markdown",
      "source": [],
      "metadata": {
        "id": "Gx5PGZecug5I"
      }
    },
    {
      "cell_type": "markdown",
      "source": [
        "#Question 2\n",
        "\n",
        "121. Best Time to Buy and Sell Stock\n",
        "\n",
        "You are given an array prices where prices[i] is the price of a given stock on the ith day.  \n",
        "\n",
        "You want to maximize your profit by choosing a single day to buy one stock and choosing a different day in the future to sell that stock.  \n",
        "\n",
        "Return the maximum profit you can achieve from this transaction. If you cannot achieve any profit, return 0.  \n",
        "\n",
        "\n",
        "Example 1:\n",
        "\n",
        "Input: prices = [7,1,5,3,6,4]  \n",
        "Output: 5  \n",
        "Explanation: Buy on day 2 (price = 1) and sell on day 5 (price = 6), profit = 6-1 = 5.  \n",
        "Note that buying on day 2 and selling on day 1 is not allowed because you must buy before you sell.  \n",
        "\n",
        "\n",
        "Example 2:\n",
        "\n",
        "Input: prices = [7,6,4,3,1]  \n",
        "Output: 0  \n",
        "Explanation: In this case, no transactions are done and the max profit = 0.  \n",
        "\n",
        "\n",
        "Constraints:\n",
        "\n",
        "1 <= prices.length <= 105  \n",
        "0 <= prices[i] <= 104"
      ],
      "metadata": {
        "id": "3bl_qAHLuhDz"
      }
    },
    {
      "cell_type": "code",
      "source": [
        "class Solution(object):\n",
        "    def maxProfit(self, prices):\n",
        "        \"\"\"\n",
        "        :type prices: List[int]\n",
        "        :rtype: int\n",
        "        \"\"\"\n",
        "        min_price=float('inf')\n",
        "        max_profit=0\n",
        "\n",
        "        for price in prices:\n",
        "            if price < min_price:\n",
        "              min_price= min(min_price, price)\n",
        "            else:\n",
        "             max_profit=max(max_profit, price-min_price)\n",
        "\n",
        "            return max_profit"
      ],
      "metadata": {
        "id": "THPLf_dTt6c4"
      },
      "execution_count": 3,
      "outputs": []
    },
    {
      "cell_type": "code",
      "source": [
        "#Time Complexity\n",
        "\t#\tThe loop runs once over all elements: O(n)\n",
        "\t#Constant-time operations inside the loop\n",
        "\n",
        "#Time Complexity = O(n)"
      ],
      "metadata": {
        "id": "KdxfzyVYt6kc"
      },
      "execution_count": 2,
      "outputs": []
    },
    {
      "cell_type": "code",
      "source": [
        "#Space Complexity\n",
        "\t#Only two variables (min_price, max_profit) used\n",
        "\t#No additional data structures\n",
        "\n",
        "#Space Complexity = O(1)"
      ],
      "metadata": {
        "id": "9PFBLr20wlBD"
      },
      "execution_count": null,
      "outputs": []
    },
    {
      "cell_type": "markdown",
      "source": [
        "#Question 3\n",
        "283. Move Zeroes\n",
        "\n",
        "\n",
        "Given an integer array nums, move all 0's to the end of it while maintaining the relative order of the non-zero elements.  \n",
        "\n",
        "Note that you must do this in-place without making a copy of the array.  \n",
        "\n",
        "\n",
        "\n",
        "Example 1:\n",
        "\n",
        "Input: nums = [0,1,0,3,12]  \n",
        "Output: [1,3,12,0,0]  \n",
        "\n",
        "\n",
        "Example 2:\n",
        "\n",
        "Input: nums = [0]  \n",
        "Output: [0]\n",
        "\n",
        "\n",
        "Constraints:\n",
        "\n",
        "1 <= nums.length <= 104  \n",
        "-231 <= nums[i] <= 231 - 1"
      ],
      "metadata": {
        "id": "lGWYFTRHyAvn"
      }
    },
    {
      "cell_type": "code",
      "source": [
        "def moveZeroes(nums):\n",
        "    insert_pos = 0\n",
        "\n",
        "    # Move all non-zero elements to the front\n",
        "    for num in nums:\n",
        "        if num != 0:\n",
        "            nums[insert_pos] = num\n",
        "            insert_pos += 1\n",
        "\n",
        "    # Fill the remaining positions with zeroes\n",
        "    while insert_pos < len(nums):\n",
        "        nums[insert_pos] = 0\n",
        "        insert_pos += 1"
      ],
      "metadata": {
        "id": "jVAuDHeZ0nf5"
      },
      "execution_count": 4,
      "outputs": []
    },
    {
      "cell_type": "code",
      "source": [
        "#Time Complexity\n",
        "\t#O(n): We traverse the list twice:\n",
        "\t#Once for moving non-zero elements.\n",
        "\t#Once for placing the zeroes.\n",
        "\n",
        "#Space Complexity\n",
        "\t#O(1): In-place rearrangement without any extra array or data structure"
      ],
      "metadata": {
        "id": "OrQb5ioN0rNg"
      },
      "execution_count": null,
      "outputs": []
    },
    {
      "cell_type": "markdown",
      "source": [
        "\n",
        "#Question 4\n",
        "238. Product of Array Except Self\n",
        "Medium\n",
        "\n",
        "Given an integer array nums, return an array answer such that answer[i] is equal to the product of all the elements of nums except nums[i].  \n",
        "\n",
        "The product of any prefix or suffix of nums is guaranteed to fit in a 32-bit integer.  \n",
        "\n",
        "You must write an algorithm that runs in O(n) time and without using the division operation.  \n",
        "\n",
        "\n",
        "\n",
        "Example 1:\n",
        "\n",
        "Input: nums = [1,2,3,4]  \n",
        "Output: [24,12,8,6]   \n",
        "\n",
        "\n",
        "Example 2:\n",
        "\n",
        "Input: nums = [-1,1,0,-3,3]  \n",
        "Output: [0,0,9,0,0]\n",
        "\n",
        "\n",
        "Constraints:\n",
        "\n",
        "2 <= nums.length <= 105   \n",
        "-30 <= nums[i] <= 30  \n",
        "The input is generated such that answer[i] is guaranteed to fit in a 32-bit integer."
      ],
      "metadata": {
        "id": "5kBRISUa6TXA"
      }
    },
    {
      "cell_type": "code",
      "source": [
        "class Solution(object):\n",
        "    def productExceptSelf(self, nums):\n",
        "        \"\"\"\n",
        "        :type nums: List[int]\n",
        "        :rtype: List[int]\n",
        "        \"\"\"\n",
        "\n",
        "        n = len(nums)\n",
        "        answer = [1] * n\n",
        "\n",
        "        # First pass: calculate left products\n",
        "        left_product = 1\n",
        "        for i in range(n):\n",
        "            answer[i] = left_product\n",
        "            left_product *= nums[i]\n",
        "\n",
        "        # Second pass: calculate right products and multiply\n",
        "        right_product = 1\n",
        "        for i in range(n - 1, -1, -1):\n",
        "            answer[i] *= right_product\n",
        "            right_product *= nums[i]\n",
        "\n",
        "        return answer"
      ],
      "metadata": {
        "id": "DZCm20oG6ovl"
      },
      "execution_count": null,
      "outputs": []
    },
    {
      "cell_type": "markdown",
      "source": [
        "\n",
        "We avoid division and compute the result using two passes:  \n",
        "\t1.\tLeft Pass: answer[i] contains the product of all elements to the left of i.  \n",
        "\t2.\tRight Pass: We multiply answer[i] with the product of all elements to the right of i.  \n",
        "\n",
        "For example, for nums = [1, 2, 3, 4]:  \n",
        "\t•\tLeft pass gives: [1, 1, 2, 6]   \n",
        "\t•\tRight pass (multiplied in-place): [24, 12, 8, 6]"
      ],
      "metadata": {
        "id": "Ht1-S89B8nVu"
      }
    },
    {
      "cell_type": "markdown",
      "source": [
        "🕒 Time Complexity\n",
        "\t•\tO(n) — Two passes through the array.\n",
        "\n",
        "💾 Space Complexity\n",
        "\t•\tO(1) — Output array answer is not considered extra space since it’s required by the problem.\n"
      ],
      "metadata": {
        "id": "cWGsyYqP819O"
      }
    },
    {
      "cell_type": "markdown",
      "source": [
        "#Question 5\n",
        "\n",
        "53. Maximum Subarray\n",
        "Medium\n",
        "\n",
        "\n",
        "Given an integer array nums, find the subarray with the largest sum, and return its sum.\n",
        "\n",
        "\n",
        "\n",
        "Example 1:\n",
        "\n",
        "Input: nums = [-2,1,-3,4,-1,2,1,-5,4]   \n",
        "Output: 6   \n",
        "Explanation: The subarray [4,-1,2,1] has the largest sum 6.\n",
        "\n",
        "\n",
        "Constraints:\n",
        "\n",
        "1 <= nums.length <= 105  \n",
        "-104 <= nums[i] <= 104   \n",
        "\n",
        "\n",
        "Follow up: If you have figured out the O(n) solution, try coding another solution using the divide and conquer approach, which is more subtle"
      ],
      "metadata": {
        "id": "-DFRvoWT-lkA"
      }
    },
    {
      "cell_type": "markdown",
      "source": [
        "###Kadane’s Algorithm (O(n) time)\n",
        "\n",
        "🔍 Intuition:\n",
        "\t•\tAs we iterate, we track:  \n",
        "\t•\tThe maximum subarray sum ending at current index.  \n",
        "\t•\tThe maximum subarray sum seen so far.  \n",
        "\n",
        "If the current sum becomes negative, it’s better to start fresh from the next number."
      ],
      "metadata": {
        "id": "XQ0xvApG-ln5"
      }
    },
    {
      "cell_type": "code",
      "source": [
        "def maxSubArray(nums):\n",
        "    max_sum = current_sum = nums[0]\n",
        "\n",
        "    for num in nums[1:]:\n",
        "        current_sum = max(num, current_sum + num)\n",
        "        max_sum = max(max_sum, current_sum)\n",
        "\n",
        "    return max_sum"
      ],
      "metadata": {
        "id": "M98yaRON6pAj"
      },
      "execution_count": 5,
      "outputs": []
    },
    {
      "cell_type": "markdown",
      "source": [
        "🔍 Explanation\n",
        "\t•\tcurrent_sum: Max sum of subarray ending here.  \n",
        "\t•\tmax_sum: Max sum found so far.\n",
        "\n",
        "For each num:  \n",
        "\t•\tEither start a new subarray (num)  \n",
        "\t•\tOr extend the previous one (current_sum + num)    \n",
        "→ Pick the better option using max().\n",
        "\n",
        "\n",
        "⏱️ Complexity   \n",
        "\t•\tTime: O(n)  \n",
        "\t•\tSpace: O(1)\n"
      ],
      "metadata": {
        "id": "VOXsy6zrAIEN"
      }
    },
    {
      "cell_type": "markdown",
      "source": [
        "#Questions 6\n",
        "15. 3Sum\n",
        "Medium\n",
        "\n",
        "\n",
        "Given an integer array nums, return all the triplets [nums[i], nums[j], nums[k]] such that i != j, i != k, and j != k, and nums[i] + nums[j] + nums[k] == 0.  \n",
        "\n",
        "Notice that the solution set must not contain duplicate triplets.  \n",
        "\n",
        "\n",
        "\n",
        "Example 1:  \n",
        "\n",
        "Input: nums = [-1,0,1,2,-1,-4]   \n",
        "Output: [[-1,-1,2],[-1,0,1]]   \n",
        "Explanation:   \n",
        "nums[0] + nums[1] + nums[2] = (-1) + 0 + 1 = 0.  \n",
        "nums[1] + nums[2] + nums[4] = 0 + 1 + (-1) = 0.  \n",
        "nums[0] + nums[3] + nums[4] = (-1) + 2 + (-1) = 0.  \n",
        "The distinct triplets are [-1,0,1] and [-1,-1,2].  \n",
        "Notice that the order of the output and the order of the triplets does not matter.  \n",
        "\n",
        "\n",
        "Constraints:  \n",
        "\n",
        "3 <= nums.length <= 3000  \n",
        "-105 <= nums[i] <= 105  "
      ],
      "metadata": {
        "id": "TZNg8PY9CfZm"
      }
    },
    {
      "cell_type": "code",
      "source": [
        "def threeSum(nums):\n",
        "    nums.sort()\n",
        "    res = []\n",
        "\n",
        "    for i in range(len(nums)):\n",
        "        if i > 0 and nums[i] == nums[i-1]:\n",
        "            continue  # Skip duplicate `a`\n",
        "\n",
        "        left, right = i + 1, len(nums) - 1\n",
        "\n",
        "        while left < right:\n",
        "            total = nums[i] + nums[left] + nums[right]\n",
        "\n",
        "            if total < 0:\n",
        "                left += 1\n",
        "            elif total > 0:\n",
        "                right -= 1\n",
        "            else:\n",
        "                res.append([nums[i], nums[left], nums[right]])\n",
        "                # Skip duplicates for `b` and `c`\n",
        "                while left < right and nums[left] == nums[left + 1]: left += 1\n",
        "                while left < right and nums[right] == nums[right - 1]: right -= 1\n",
        "                left += 1\n",
        "                right -= 1\n",
        "\n",
        "    return res"
      ],
      "metadata": {
        "id": "gOiJfCbCCfxq"
      },
      "execution_count": null,
      "outputs": []
    }
  ]
}